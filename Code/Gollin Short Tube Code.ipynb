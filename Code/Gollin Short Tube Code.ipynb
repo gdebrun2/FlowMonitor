{
 "cells": [
  {
   "cell_type": "code",
   "execution_count": 5,
   "id": "552fc3c6-88df-4265-8b74-9d4efad41e38",
   "metadata": {},
   "outputs": [
    {
     "name": "stdout",
     "output_type": "stream",
     "text": [
      "set current working directory now \n",
      "Current working directory is  /Users/gavin/Desktop\n",
      "Number of lines in  /Users/gavin/Projects/Ventilator Flow Monitor/Data/Short Tube Data 4-25.csv  is  820\n",
      "p0 mean =  23.497256097560975\n",
      "p1 mean =  22.86168292682927\n",
      "p2 mean =  22.89359756097561\n"
     ]
    },
    {
     "name": "stderr",
     "output_type": "stream",
     "text": [
      "/var/folders/3_/596gx0f10xg46rczf6hpm5bm0000gn/T/ipykernel_6049/5850121.py:77: DeprecationWarning: Calling np.sum(generator) is deprecated, and in the future will give a different result. Use np.sum(np.fromiter(generator)) or the python sum builtin instead.\n",
      "  NumberOfCSVLines = sum(1 for line in open(filename))\n"
     ]
    },
    {
     "ename": "NameError",
     "evalue": "name 'histo_p0_p1' is not defined",
     "output_type": "error",
     "traceback": [
      "\u001b[0;31m---------------------------------------------------------------------------\u001b[0m",
      "\u001b[0;31mNameError\u001b[0m                                 Traceback (most recent call last)",
      "Input \u001b[0;32mIn [5]\u001b[0m, in \u001b[0;36m<cell line: 165>\u001b[0;34m()\u001b[0m\n\u001b[1;32m    163\u001b[0m \u001b[38;5;28mprint\u001b[39m(\u001b[38;5;124m\"\u001b[39m\u001b[38;5;124mp2 mean = \u001b[39m\u001b[38;5;124m\"\u001b[39m, p2mean)\n\u001b[1;32m    165\u001b[0m \u001b[38;5;28;01mfor\u001b[39;00m index \u001b[38;5;129;01min\u001b[39;00m \u001b[38;5;28mrange\u001b[39m(\u001b[38;5;241m0\u001b[39m, NumberOfCSVLines):\n\u001b[0;32m--> 166\u001b[0m     \u001b[43mhisto_p0_p1\u001b[49m\u001b[38;5;241m.\u001b[39mhfill(p0_p1[index])\n\u001b[1;32m    168\u001b[0m     \u001b[38;5;28;01mif\u001b[39;00m(p0_p1[index] \u001b[38;5;241m>\u001b[39m\u001b[38;5;241m=\u001b[39m \u001b[38;5;241m-\u001b[39m\u001b[38;5;241m2.\u001b[39m \u001b[38;5;129;01mand\u001b[39;00m p0_p1[index] \u001b[38;5;241m<\u001b[39m\u001b[38;5;241m=\u001b[39m \u001b[38;5;241m2.\u001b[39m):\n\u001b[1;32m    169\u001b[0m         histo_p0_p1a\u001b[38;5;241m.\u001b[39mhfill(p0_p1[index])\n",
      "\u001b[0;31mNameError\u001b[0m: name 'histo_p0_p1' is not defined"
     ]
    }
   ],
   "source": [
    "\"\"\"\n",
    "This file is bernoulli_flowmeter_study_2022_04_16.py\n",
    "\n",
    "April 16, 2022\n",
    "\n",
    "@author: g-gollin\n",
    "\n",
    "Plot data from Bernoulli flowmeter v5.\n",
    "\n",
    "\"\"\"\n",
    "\n",
    "# read a CSV file wih flowmeter data.\n",
    "\n",
    "# import libraries. See\n",
    "# https://matplotlib.org/stable/tutorials/introductory/sample_plots.html\n",
    "\n",
    "import numpy as np\n",
    "import matplotlib\n",
    "import matplotlib.pyplot as plt\n",
    "import matplotlib.mlab as mlab\n",
    "import time\n",
    "# my own histogramming code\n",
    "#import histogramObject as hb\n",
    "# import a module that can read csv (comma separated variable) files.\n",
    "import csv\n",
    "import math\n",
    "from mpl_toolkits.mplot3d import Axes3D\n",
    "from random import Random\n",
    "import os\n",
    "\n",
    "from pylab import * \n",
    "\n",
    "\n",
    "# hbookObject contains tools for creating an hbook-style\n",
    "# histogram.\n",
    "\n",
    "# use this way:\n",
    "#   import histogramObject as hb\n",
    "#\n",
    "#   histo1 = hb.histo('a 1-D histogram', 10, 0., 100.)\n",
    "#   histo2 = hb.histo('a scatterplot', 10, 0., 100., 15, 0., 4.)\n",
    "#\n",
    "#   histo1.hsetlabels('my x axis', 'my y axis');\n",
    "#\n",
    "#   histo1.hfill(the_xvalue);\n",
    "#   histo2.hfill(an_xvalue, a_yvalue);\n",
    "#\n",
    "#   histo1.hprint();\n",
    "#   histo2.hprint();\n",
    "#\n",
    "# for a logarithmic y scale use hprintlog instead of hprint:\n",
    "#   histo1.hprintlog();\n",
    "#   histo2.hprintlog();\n",
    "\n",
    "\n",
    "############# initialize stuff ###########\n",
    "\n",
    "# keep track of execution time\n",
    "start_time = time.time()\n",
    "\n",
    "print(\"set current working directory now \")\n",
    "os.chdir('/Users/gavin/Desktop')\n",
    "print(\"Current working directory is \", os.getcwd())\n",
    "\n",
    "# CSV filename\n",
    "# filename = \"DPS310A.CSV\"\n",
    "# filename = \"DPS310D.CSV\"\n",
    "# filename = \"DPS310A_old2.CSV\"\n",
    "# filename = \"DPS310D_2022_02_18b_.CSV\"\n",
    "# filename = \"DPS310D_2022_02_18b.CSV\"\n",
    "# filename = \"DPS310D_2022_02_23.CSV\"\n",
    "# filename = \"DPS310E.CSV\"\n",
    "filename = \"/Users/gavin/Projects/Ventilator Flow Monitor/Data/Short Tube Data 4-25.csv\"\n",
    "# get a line count in this file. Found on the web:\n",
    "# https://stackoverflow.com/questions/845058/how-to-get-line-count-of-a-large-file-cheaply-in-python \n",
    "\n",
    "NumberOfCSVLines = sum(1 for line in open(filename))\n",
    "print(\"Number of lines in \", filename, \" is \", NumberOfCSVLines)\n",
    "\n",
    "# set up arrays to hold anemometer data.\n",
    "# format in the file, on one line, is this (as of 4/2022):\n",
    "# millis value, \"T and P:\", \n",
    "# temperature0, pressure0 (hPa),\n",
    "# temperature1, pressure1 (hPa), \n",
    "# temperature2, pressure2 (hPa), \n",
    "# temperature3, pressure3 (hPa), \n",
    "# temperature4, pressure4 (hPa), \n",
    "# \"corrected P0 - P1 in Pa:\", corrected pressure0 - pressure1,\n",
    "# \"corrected P2 - P3 in Pa:\", corrected pressure2 - pressure3,\n",
    "# \"Current time (UTC):\", hh:mm:ss,\n",
    "# \"Date (dd/mm/yyyy):\", dd/mm/yyyy,\n",
    "# \"patient ID\", ID\n",
    "\n",
    "millis = np.array([0] * NumberOfCSVLines)\n",
    "\n",
    "t0 = np.array([0.0] * NumberOfCSVLines)\n",
    "p0 = np.array([0.0] * NumberOfCSVLines)\n",
    "\n",
    "\n",
    "t1 = np.array([0.0] * NumberOfCSVLines)\n",
    "p1 = np.array([0.0] * NumberOfCSVLines)\n",
    "\n",
    "t2 = np.array([0.0] * NumberOfCSVLines)\n",
    "p2 = np.array([0.0] * NumberOfCSVLines)\n",
    "\n",
    "t3 = np.array([0.0] * NumberOfCSVLines)\n",
    "p3 = np.array([0.0] * NumberOfCSVLines)\n",
    "\n",
    "t4 = np.array([0.0] * NumberOfCSVLines)\n",
    "p4 = np.array([0.0] * NumberOfCSVLines)\n",
    "\n",
    "p0_p1 = np.array([0.0] * NumberOfCSVLines)\n",
    "p2_p3 = np.array([0.0] * NumberOfCSVLines)\n",
    "\n",
    "UTC_time = np.array([\"00:00:00\"] * NumberOfCSVLines)\n",
    "UTC_date = np.array([\"01/01/2022\"] * NumberOfCSVLines)\n",
    "\n",
    "# # create a few histograms\n",
    "# histo_p0_p1 = hb.histo('1. p0 - p1, Pascals', 1401, -9., 20.)\n",
    "# histo_p0_p1.hsetlabels('p0 - p1', 'N');\n",
    "\n",
    "# histo_p0_p1a = hb.histo('1a. p0 - p1, Pascals', 401, -2., 2.)\n",
    "# histo_p0_p1a.hsetlabels('p0 - p1', 'N');\n",
    "\n",
    "# histo_p0_p1b = hb.histo('1b. p0 - p1, Pascals', 601, 3.5, 9.5)\n",
    "# histo_p0_p1b.hsetlabels('p0 - p1', 'N');\n",
    "\n",
    "\n",
    "# now read the file.\n",
    "with open(filename) as csvfile:\n",
    "\n",
    "    # array index\n",
    "    index = 0\n",
    "    \n",
    "    # umm... something to do with reading the CSV file.\n",
    "    filereader = csv.reader(csvfile)\n",
    "    \n",
    "    for row in filereader:\n",
    "        \n",
    "        # load arrays of data for this line...\n",
    "        millis[index] = row[0]\n",
    "\n",
    "        t0[index] = row[6] #6\n",
    "        p0[index] = row[7] #7\n",
    "\n",
    "        t1[index] = row[4]\n",
    "        p1[index] = row[5]\n",
    "\n",
    "        t2[index] = row[2] #2\n",
    "        p2[index] = row[3] #3\n",
    "\n",
    "        p0_p1[index] = p0[index] - p1[index]\n",
    "        \n",
    "        #p2_p3[index] = row[15]\n",
    "        \n",
    "        index = index + 1\n",
    "\n",
    "p0mean = np.mean(p0)\n",
    "p1mean = np.mean(p1)\n",
    "p2mean = np.mean(p2)\n",
    "print(\"p0 mean = \", p0mean)\n",
    "print(\"p1 mean = \", p1mean)\n",
    "print(\"p2 mean = \", p2mean)\n",
    "\n",
    "for index in range(0, NumberOfCSVLines):\n",
    "    histo_p0_p1.hfill(p0_p1[index])\n",
    "\n",
    "    if(p0_p1[index] >= -2. and p0_p1[index] <= 2.):\n",
    "        histo_p0_p1a.hfill(p0_p1[index])\n",
    "        \n",
    "    if(p0_p1[index] >= 3.5 and p0_p1[index] <= 9.5):\n",
    "        histo_p0_p1b.hfill(p0_p1[index])\n",
    "\n",
    "          \n",
    "\n",
    "# close already-open graphics windows\n",
    "matplotlib.pyplot.close(\"all\")\n",
    "\n",
    "# plot some histograms.\n",
    "histo_p0_p1.hprint()\n",
    "histo_p0_p1a.hprint()\n",
    "histo_p0_p1b.hprint()\n",
    "\n",
    "\n",
    "first_bin = 0\n",
    "last_bin = 4000\n",
    "\n",
    "# now plot pressure vs time\n",
    "fig = plt.figure()\n",
    "# define axis handle\n",
    "ax = fig.gca()\n",
    "# set labels and title\n",
    "ax.set_xlabel(\"time (seconds)\")\n",
    "ax.set_ylabel(\"pressure, hPa\")\n",
    "ax.set_title(\"5. pressure sensor readings vs time (0:black, 1:red)\")\n",
    "ax.plot(millis/1000, p0, '-', c = 'black')\n",
    "ax.plot(millis/1000, p1, '-', c = 'red')\n",
    "\n",
    "# now plot pressure differences vs time\n",
    "last_bin = 2500\n",
    "fig = plt.figure()\n",
    "# define axis handle\n",
    "ax = fig.gca()\n",
    "# set labels and title\n",
    "ax.set_xlabel(\"time (seconds)\")\n",
    "ax.set_ylabel(\"pressure differences, baseline-subtracted, Pa\")\n",
    "ax.set_title(\"6. p0-p1 vs time.\")\n",
    "ax.plot(millis[first_bin:last_bin]/1000, p0_p1[first_bin:last_bin], '.', c = 'black', markersize = 1, alpha = 0.4)\n",
    "ax.set_ylim(-2, 10)\n",
    "\n",
    "last_bin = 4000\n",
    "\n",
    "\n",
    "\n",
    "# now plot temperature vs time\n",
    "fig = plt.figure()\n",
    "# define axis handle\n",
    "ax = fig.gca()\n",
    "# set labels and title\n",
    "ax.set_xlabel(\"time (seconds)\")\n",
    "ax.set_ylabel(\"temperature, *C\")\n",
    "ax.set_title(\"9. Uncompensated temperatures vs time (0:black, 1:red)\")\n",
    "ax.plot(millis/1000, t0, '-', c = 'black')\n",
    "ax.plot(millis/1000, t1, '-', c = 'red')\n",
    "\n",
    "# now plot pressure differences vs. temperature\n",
    "fig = plt.figure()\n",
    "# define axis handle\n",
    "ax = fig.gca()\n",
    "# set labels and title\n",
    "ax.set_xlabel(\"temperature 0, *C\")\n",
    "ax.set_ylabel(\"corrected pressure differences, Pa\")\n",
    "ax.set_title(\"10. p0-p1 vs temperature 0\")\n",
    "ax.plot(t0, p0_p1, '.', c = 'black', markersize = 1, alpha = 0.4)\n",
    "\n",
    "# now plot pressure differences vs. pressure\n",
    "fig = plt.figure()\n",
    "# define axis handle\n",
    "ax = fig.gca()\n",
    "# set labels and title\n",
    "ax.set_xlabel(\"pressure 0, *C\")\n",
    "ax.set_ylabel(\"corrected pressure differences, Pa\")\n",
    "ax.set_title(\"11. p0-p1 vs pressure 0\")\n",
    "ax.plot(p0, p0_p1, '.', c = 'black', markersize = 1, alpha = 0.4)\n"
   ]
  },
  {
   "cell_type": "code",
   "execution_count": 41,
   "id": "b5188ebc-4a00-4356-b867-d19f4649a70b",
   "metadata": {},
   "outputs": [
    {
     "name": "stdout",
     "output_type": "stream",
     "text": [
      "[-0.021362 -0.018982 -0.023987 -0.025086 -0.02533  -0.022277 -0.022827\n",
      " -0.022461 -0.022705 -0.022217]\n"
     ]
    }
   ],
   "source": [
    "print(p0[:10] - p1[:10])"
   ]
  },
  {
   "cell_type": "code",
   "execution_count": 42,
   "id": "b4fcdd06-009a-4782-8cde-5ad4c6e0ee52",
   "metadata": {},
   "outputs": [
    {
     "data": {
      "image/png": "[encoded data removed]",
      "text/plain": [
       "<Figure size 432x288 with 1 Axes>"
      ]
     },
     "metadata": {
      "needs_background": "light"
     },
     "output_type": "display_data"
    }
   ],
   "source": [
    "plt.hist(p0,bins=300)\n",
    "plt.show()"
   ]
  },
  {
   "cell_type": "code",
   "execution_count": null,
   "id": "3e38fdbe-e443-464d-8042-2209070cafaf",
   "metadata": {},
   "outputs": [],
   "source": []
  },
  {
   "cell_type": "code",
   "execution_count": 10,
   "id": "dbb75291-3686-4eea-94e7-b333179e932a",
   "metadata": {},
   "outputs": [
    {
     "data": {
      "image/png": "[encoded data removed]",
      "text/plain": [
       "<Figure size 432x288 with 1 Axes>"
      ]
     },
     "metadata": {
      "needs_background": "light"
     },
     "output_type": "display_data"
    },
    {
     "name": "stdout",
     "output_type": "stream",
     "text": [
      "[23.6  23.6  23.6  23.6  23.6  23.59 23.61 23.6  23.6  23.6 ]\n"
     ]
    },
    {
     "data": {
      "text/plain": [
       "-44.99999999999318"
      ]
     },
     "execution_count": 10,
     "metadata": {},
     "output_type": "execute_result"
    }
   ],
   "source": [
    "plt.scatter(millis,p0)\n",
    "plt.show()\n",
    "print(p0[:10])\n",
    "x=(992.7-993.15) * 100\n",
    "x"
   ]
  },
  {
   "cell_type": "code",
   "execution_count": 2,
   "id": "88e0d570-cc21-43ea-a748-acbf4deb3ec9",
   "metadata": {},
   "outputs": [
    {
     "ename": "NameError",
     "evalue": "name 'millis' is not defined",
     "output_type": "error",
     "traceback": [
      "\u001b[0;31m---------------------------------------------------------------------------\u001b[0m",
      "\u001b[0;31mNameError\u001b[0m                                 Traceback (most recent call last)",
      "Input \u001b[0;32mIn [2]\u001b[0m, in \u001b[0;36m<cell line: 1>\u001b[0;34m()\u001b[0m\n\u001b[0;32m----> 1\u001b[0m plt\u001b[38;5;241m.\u001b[39mscatter(\u001b[43mmillis\u001b[49m,(p0\u001b[38;5;241m-\u001b[39mp1)\u001b[38;5;241m*\u001b[39m\u001b[38;5;241m100\u001b[39m)\n",
      "\u001b[0;31mNameError\u001b[0m: name 'millis' is not defined"
     ]
    }
   ],
   "source": [
    "plt.scatter(millis,(p0-p1)*100)"
   ]
  },
  {
   "cell_type": "code",
   "execution_count": 61,
   "id": "250f246e-182d-4a65-922e-fcfc08654b5c",
   "metadata": {},
   "outputs": [
    {
     "name": "stdout",
     "output_type": "stream",
     "text": [
      "-2.2611750000010034\n",
      "3.49634200000537\n",
      "5.757517000006374\n"
     ]
    }
   ],
   "source": [
    "p0off = np.mean(p0[:100])\n",
    "p0mean = np.mean(p0[500:600])\n",
    "p1off = np.mean(p1[:100])\n",
    "p1mean = np.mean(p1[500:600])\n",
    "\n",
    "print(100*(p0off - p1off))\n",
    "\n",
    "print(100*(p0mean-p1mean))\n",
    "\n",
    "print(3.49634200000537+2.2611750000010034)"
   ]
  }
 ],
 "metadata": {
  "kernelspec": {
   "display_name": "RadarMeteorology",
   "language": "python",
   "name": "radarmeteorology"
  },
  "language_info": {
   "codemirror_mode": {
    "name": "ipython",
    "version": 3
   },
   "file_extension": ".py",
   "mimetype": "text/x-python",
   "name": "python",
   "nbconvert_exporter": "python",
   "pygments_lexer": "ipython3",
   "version": "3.9.7"
  }
 },
 "nbformat": 4,
 "nbformat_minor": 5
}
